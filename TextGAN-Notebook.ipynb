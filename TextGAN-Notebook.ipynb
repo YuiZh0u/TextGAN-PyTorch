{
 "cells": [
  {
   "cell_type": "markdown",
   "metadata": {
    "id": "bqKnoudCIRLt"
   },
   "source": [
    "# TextGAN"
   ]
  },
  {
   "cell_type": "code",
   "execution_count": null,
   "metadata": {
    "colab": {
     "base_uri": "https://localhost:8080/"
    },
    "id": "utcwGr26HY9h",
    "outputId": "8b7ea20e-b49b-4f08-b9b5-da06dff55b45"
   },
   "outputs": [],
   "source": [
    "#Solo si se está usando Google Colab\n",
    "from google.colab import drive\n",
    "drive.mount('/content/gdrive/')"
   ]
  },
  {
   "cell_type": "code",
   "execution_count": null,
   "metadata": {
    "id": "Stnf2wNjBEmc"
   },
   "outputs": [],
   "source": [
    "#Solo si se está usando Google Colab\n",
    "#Solo ejecutar una vez, es para clonar el repo en drive (para tener las salidas generadas guardadas en el drive en caso de que se apague la maquina).\n",
    "!cd /content/gdrive/MyDrive && git clone -b Thesis https://github.com/YuiZh0u/TextGAN-PyTorch.git"
   ]
  },
  {
   "cell_type": "markdown",
   "metadata": {
    "id": "yJWHBqMSDFD3"
   },
   "source": [
    "## Instalación de requisitos"
   ]
  },
  {
   "cell_type": "code",
   "execution_count": null,
   "metadata": {
    "colab": {
     "base_uri": "https://localhost:8080/"
    },
    "id": "TGJm75BcCMDt",
    "outputId": "f0994661-7aad-4510-fc57-8aa6df8d3eff"
   },
   "outputs": [],
   "source": [
    "!cd /content/gdrive/MyDrive/TextGAN-PyTorch && pip install -r requirements.txt"
   ]
  },
  {
   "cell_type": "code",
   "execution_count": null,
   "metadata": {
    "id": "o5hx8DyiCfRu"
   },
   "outputs": [],
   "source": [
    "!apt-get install libboost-all-dev"
   ]
  },
  {
   "cell_type": "code",
   "execution_count": null,
   "metadata": {
    "id": "EOWD0lNvBaQp"
   },
   "outputs": [],
   "source": [
    "!git clone https://github.com/kpu/kenlm.git"
   ]
  },
  {
   "cell_type": "code",
   "execution_count": null,
   "metadata": {
    "id": "5EySEq8gCqcy"
   },
   "outputs": [],
   "source": [
    "!cd kenlm && mkdir -p build && cd build && cmake .. && make -j 4"
   ]
  },
  {
   "cell_type": "code",
   "execution_count": null,
   "metadata": {
    "colab": {
     "base_uri": "https://localhost:8080/"
    },
    "id": "_NVZl9AaA8ve",
    "outputId": "6b4dc1ec-435a-48ff-f51e-5877c3c58187"
   },
   "outputs": [],
   "source": [
    "import nltk\n",
    "nltk.download('punkt')"
   ]
  },
  {
   "cell_type": "code",
   "execution_count": null,
   "metadata": {
    "id": "AUcuCCxa1NXj"
   },
   "outputs": [],
   "source": [
    "# !cp /content/gdrive/MyDrive/word2vec/covid_tweets_equal16.txt /content/gdrive/MyDrive/TextGAN-PyTorch/dataset/testdata/"
   ]
  },
  {
   "cell_type": "code",
   "execution_count": null,
   "metadata": {
    "colab": {
     "base_uri": "https://localhost:8080/"
    },
    "id": "vtGK6GUHC71E",
    "outputId": "82a4ecd8-1e4b-484e-8605-0545dd1fa7eb"
   },
   "outputs": [],
   "source": [
    "!cd /content/gdrive/MyDrive/TextGAN-PyTorch/run && python3 run_seqgan.py 3 0"
   ]
  },
  {
   "cell_type": "code",
   "execution_count": null,
   "metadata": {},
   "outputs": [],
   "source": [
    "!nvidia-smi"
   ]
  }
 ],
 "metadata": {
  "accelerator": "GPU",
  "colab": {
   "collapsed_sections": [],
   "name": "Discrete GANs",
   "provenance": []
  },
  "kernelspec": {
   "display_name": "Python 3 (ipykernel)",
   "language": "python",
   "name": "python3"
  },
  "language_info": {
   "codemirror_mode": {
    "name": "ipython",
    "version": 3
   },
   "file_extension": ".py",
   "mimetype": "text/x-python",
   "name": "python",
   "nbconvert_exporter": "python",
   "pygments_lexer": "ipython3",
   "version": "3.8.10"
  }
 },
 "nbformat": 4,
 "nbformat_minor": 4
}
