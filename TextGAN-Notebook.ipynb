{
 "cells": [
  {
   "cell_type": "markdown",
   "metadata": {
    "id": "bqKnoudCIRLt"
   },
   "source": [
    "# TextGAN"
   ]
  },
  {
   "cell_type": "code",
   "execution_count": null,
   "metadata": {
    "colab": {
     "base_uri": "https://localhost:8080/"
    },
    "id": "utcwGr26HY9h",
    "outputId": "8b7ea20e-b49b-4f08-b9b5-da06dff55b45"
   },
   "outputs": [],
   "source": [
    "#Solo si se está usando Google Colab\n",
    "#from google.colab import drive\n",
    "#drive.mount('/content/gdrive/')"
   ]
  },
  {
   "cell_type": "code",
   "execution_count": null,
   "metadata": {
    "id": "Stnf2wNjBEmc"
   },
   "outputs": [],
   "source": [
    "#Solo si se está usando Google Colab\n",
    "#Solo ejecutar una vez, es para clonar el repo en drive (para tener las salidas generadas guardadas en el drive en caso de que se apague la maquina).\n",
    "!git clone -b Thesis https://github.com/YuiZh0u/TextGAN-PyTorch.git"
   ]
  },
  {
   "cell_type": "markdown",
   "metadata": {
    "id": "yJWHBqMSDFD3",
    "tags": []
   },
   "source": [
    "## Instalación de requisitos"
   ]
  },
  {
   "cell_type": "code",
   "execution_count": null,
   "metadata": {
    "colab": {
     "base_uri": "https://localhost:8080/"
    },
    "id": "TGJm75BcCMDt",
    "outputId": "f0994661-7aad-4510-fc57-8aa6df8d3eff"
   },
   "outputs": [],
   "source": [
    "!cd TextGAN-PyTorch && pip install -r requirements.txt"
   ]
  },
  {
   "cell_type": "code",
   "execution_count": null,
   "metadata": {},
   "outputs": [],
   "source": [
    "!pip install --upgrade gensim "
   ]
  },
  {
   "cell_type": "code",
   "execution_count": null,
   "metadata": {},
   "outputs": [],
   "source": [
    "!pip list"
   ]
  },
  {
   "cell_type": "code",
   "execution_count": null,
   "metadata": {
    "id": "o5hx8DyiCfRu"
   },
   "outputs": [],
   "source": [
    "!apt-get install libboost-all-dev"
   ]
  },
  {
   "cell_type": "code",
   "execution_count": null,
   "metadata": {},
   "outputs": [],
   "source": [
    "!apt-get install build-essential cmake"
   ]
  },
  {
   "cell_type": "code",
   "execution_count": null,
   "metadata": {
    "id": "EOWD0lNvBaQp"
   },
   "outputs": [],
   "source": [
    "!git clone https://github.com/kpu/kenlm.git"
   ]
  },
  {
   "cell_type": "code",
   "execution_count": null,
   "metadata": {
    "id": "5EySEq8gCqcy"
   },
   "outputs": [],
   "source": [
    "!cd kenlm && mkdir -p build && cd build && cmake .. && make -j 4"
   ]
  },
  {
   "cell_type": "code",
   "execution_count": null,
   "metadata": {
    "colab": {
     "base_uri": "https://localhost:8080/"
    },
    "id": "_NVZl9AaA8ve",
    "outputId": "6b4dc1ec-435a-48ff-f51e-5877c3c58187"
   },
   "outputs": [],
   "source": [
    "import nltk\n",
    "nltk.download('punkt')"
   ]
  },
  {
   "cell_type": "code",
   "execution_count": 2,
   "metadata": {},
   "outputs": [],
   "source": [
    "import os\n",
    "import torch\n",
    "os.environ[\"CUDA_VISIBLE_DEVICES\"]=\"0,1\"\n",
    "# os.environ[\"CUDA_VISIBLE_DEVICES\"]=\"0\""
   ]
  },
  {
   "cell_type": "code",
   "execution_count": 3,
   "metadata": {},
   "outputs": [],
   "source": [
    "# import torch\n",
    "torch.cuda.empty_cache()"
   ]
  },
  {
   "cell_type": "code",
   "execution_count": 4,
   "metadata": {},
   "outputs": [],
   "source": [
    "os.environ[\"TOKENIZERS_PARALLELISM\"] = \"false\""
   ]
  },
  {
   "cell_type": "code",
   "execution_count": null,
   "metadata": {},
   "outputs": [],
   "source": [
    "torch.set_printoptions(profile=\"full\")"
   ]
  },
  {
   "cell_type": "markdown",
   "metadata": {
    "tags": []
   },
   "source": [
    "## Logging"
   ]
  },
  {
   "cell_type": "markdown",
   "metadata": {
    "jp-MarkdownHeadingCollapsed": true,
    "tags": []
   },
   "source": [
    "### Via `logging`"
   ]
  },
  {
   "cell_type": "code",
   "execution_count": null,
   "metadata": {},
   "outputs": [],
   "source": [
    "from datetime import datetime\n",
    "filename = datetime.now().strftime(\"%Y%m%d_%H%M\")"
   ]
  },
  {
   "cell_type": "code",
   "execution_count": null,
   "metadata": {},
   "outputs": [],
   "source": [
    "import logging\n",
    "import sys\n",
    "\n",
    "logger = logging.getLogger()\n",
    "formatter = logging.Formatter('%(asctime)s : %(levelname)s : %(message)s')\n",
    "logger.setLevel(logging.INFO)\n",
    "\n",
    "stdout_handler = logging.StreamHandler(sys.stdout)\n",
    "stdout_handler.setLevel(logging.INFO)\n",
    "stdout_handler.setFormatter(formatter)\n",
    "\n",
    "# fhandler = logging.FileHandler(filename='/home/jfrez/AI2/outputs_pynb/logs/log_{}.log'.format(filename), mode='w')\n",
    "fhandler = logging.FileHandler(filename='/home/jfrez/AI2/outputs_pynb/logs/log_20220714_1508', mode='w')\n",
    "fhandler.setFormatter(formatter)\n",
    "fhandler.setLevel(logging.INFO)\n",
    "\n",
    "\n",
    "logger.addHandler(fhandler)\n",
    "logger.addHandler(stdout_handler)"
   ]
  },
  {
   "cell_type": "markdown",
   "metadata": {
    "tags": []
   },
   "source": [
    "### Via `%%tee`"
   ]
  },
  {
   "cell_type": "code",
   "execution_count": 5,
   "metadata": {},
   "outputs": [],
   "source": [
    "from io import StringIO\n",
    "import sys\n",
    "\n",
    "from IPython.core import magic_arguments\n",
    "from IPython.core.magic import Magics, cell_magic, magics_class\n",
    "from IPython.utils.capture import CapturedIO\n",
    "\n",
    "\n",
    "class Tee(StringIO):\n",
    "    def __init__(self, initial_value='', newline='\\n', stream=None):\n",
    "        self.stream = stream\n",
    "        super().__init__(initial_value, newline)\n",
    "    \n",
    "    def write(self, data):\n",
    "        if self.stream is not None:\n",
    "            self.stream.write(data)\n",
    "        \n",
    "        super().write(data)\n",
    "\n",
    "\n",
    "class capture_and_print_output(object):\n",
    "    stdout = True\n",
    "    stderr = True\n",
    "    display = True\n",
    "    \n",
    "    def __init__(self, stdout=True, stderr=True, display=True):\n",
    "        self.stdout = stdout\n",
    "        self.stderr = stderr\n",
    "        self.display = display\n",
    "        self.shell = None\n",
    "    \n",
    "    def __enter__(self):\n",
    "        from IPython.core.getipython import get_ipython\n",
    "        from IPython.core.displaypub import CapturingDisplayPublisher\n",
    "        from IPython.core.displayhook import CapturingDisplayHook\n",
    "        \n",
    "        self.sys_stdout = sys.stdout\n",
    "        self.sys_stderr = sys.stderr\n",
    "        \n",
    "        if self.display:\n",
    "            self.shell = get_ipython()\n",
    "            if self.shell is None:\n",
    "                self.save_display_pub = None\n",
    "                self.display = False\n",
    "        \n",
    "        stdout = stderr = outputs = None\n",
    "        if self.stdout:\n",
    "            stdout = sys.stdout = Tee(stream=sys.stdout)\n",
    "        if self.stderr:\n",
    "            stderr = sys.stderr = Tee(stream=sys.stderr)\n",
    "        if self.display:\n",
    "            self.save_display_pub = self.shell.display_pub\n",
    "            self.shell.display_pub = CapturingDisplayPublisher()\n",
    "            outputs = self.shell.display_pub.outputs\n",
    "            self.save_display_hook = sys.displayhook\n",
    "            sys.displayhook = CapturingDisplayHook(shell=self.shell,\n",
    "                                                   outputs=outputs)\n",
    "        \n",
    "        return CapturedIO(stdout, stderr, outputs)\n",
    "    \n",
    "    def __exit__(self, exc_type, exc_value, traceback):\n",
    "        sys.stdout = self.sys_stdout\n",
    "        sys.stderr = self.sys_stderr\n",
    "        if self.display and self.shell:\n",
    "            self.shell.display_pub = self.save_display_pub\n",
    "            sys.displayhook = self.save_display_hook\n",
    "\n",
    "\n",
    "@magics_class\n",
    "class CustomMagics(Magics):\n",
    "    @magic_arguments.magic_arguments()\n",
    "    @magic_arguments.argument('output', type=str, default='', nargs='?')\n",
    "    @magic_arguments.argument('--no-stderr', action='store_true')\n",
    "    @magic_arguments.argument('--no-stdout', action='store_true')\n",
    "    @magic_arguments.argument('--no-display', action='store_true')\n",
    "    @cell_magic\n",
    "    def tee(self, line, cell):\n",
    "        args = magic_arguments.parse_argstring(self.tee, line)\n",
    "        out = not args.no_stdout\n",
    "        err = not args.no_stderr\n",
    "        disp = not args.no_display\n",
    "        with capture_and_print_output(out, err, disp) as io:\n",
    "            self.shell.run_cell(cell)\n",
    "        if args.output:\n",
    "            self.shell.user_ns[args.output] = io"
   ]
  },
  {
   "cell_type": "code",
   "execution_count": 6,
   "metadata": {},
   "outputs": [],
   "source": [
    "from IPython import get_ipython\n",
    "\n",
    "get_ipython().register_magics(CustomMagics)"
   ]
  },
  {
   "cell_type": "markdown",
   "metadata": {},
   "source": [
    "## Run"
   ]
  },
  {
   "cell_type": "code",
   "execution_count": null,
   "metadata": {},
   "outputs": [],
   "source": [
    "%%tee output\n",
    "!cd TextGAN-PyTorch/run && python3 run_seqgan_fasttest.py 3 0"
   ]
  },
  {
   "cell_type": "code",
   "execution_count": null,
   "metadata": {},
   "outputs": [],
   "source": [
    "from datetime import datetime\n",
    "filename = datetime.now().strftime(\"%Y%m%d_%H%M\")\n",
    "with open('outputs_pynb/output{}.txt'.format(filename), 'w') as f:\n",
    "    f.write(output.stdout)"
   ]
  },
  {
   "cell_type": "markdown",
   "metadata": {
    "tags": []
   },
   "source": [
    "## Extra"
   ]
  },
  {
   "cell_type": "code",
   "execution_count": null,
   "metadata": {},
   "outputs": [],
   "source": [
    "!nvidia-smi"
   ]
  },
  {
   "cell_type": "code",
   "execution_count": null,
   "metadata": {},
   "outputs": [],
   "source": [
    "!echo \"hola\""
   ]
  },
  {
   "cell_type": "code",
   "execution_count": null,
   "metadata": {},
   "outputs": [],
   "source": [
    "!cd TextGAN-PyTorch/utils && python3 visualization-custom.py"
   ]
  },
  {
   "cell_type": "code",
   "execution_count": null,
   "metadata": {},
   "outputs": [],
   "source": [
    "!zip -r docencia_textgan.zip TextGAN-PyTorch"
   ]
  },
  {
   "cell_type": "code",
   "execution_count": null,
   "metadata": {},
   "outputs": [],
   "source": []
  }
 ],
 "metadata": {
  "accelerator": "GPU",
  "colab": {
   "collapsed_sections": [],
   "name": "Discrete GANs",
   "provenance": []
  },
  "kernelspec": {
   "display_name": "Python 3 (ipykernel)",
   "language": "python",
   "name": "python3"
  },
  "language_info": {
   "codemirror_mode": {
    "name": "ipython",
    "version": 3
   },
   "file_extension": ".py",
   "mimetype": "text/x-python",
   "name": "python",
   "nbconvert_exporter": "python",
   "pygments_lexer": "ipython3",
   "version": "3.8.10"
  }
 },
 "nbformat": 4,
 "nbformat_minor": 4
}
